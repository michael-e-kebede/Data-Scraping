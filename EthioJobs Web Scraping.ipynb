{
 "cells": [
  {
   "cell_type": "code",
   "execution_count": 19,
   "id": "d2f24466",
   "metadata": {},
   "outputs": [],
   "source": [
    "import pandas as pd\n",
    "from bs4 import BeautifulSoup\n",
    "from selenium import webdriver\n",
    "from random import randint\n",
    "import numpy as np\n",
    "from time import sleep"
   ]
  },
  {
   "cell_type": "code",
   "execution_count": 20,
   "id": "88bc3854",
   "metadata": {},
   "outputs": [],
   "source": [
    "hiring_Company_Name = []\n",
    "hiring_Company_Location = []"
   ]
  },
  {
   "cell_type": "code",
   "execution_count": 21,
   "id": "200a804c",
   "metadata": {},
   "outputs": [
    {
     "name": "stderr",
     "output_type": "stream",
     "text": [
      "C:\\Users\\Admin\\AppData\\Local\\Temp\\ipykernel_18164\\1542262406.py:2: DeprecationWarning: executable_path has been deprecated, please pass in a Service object\n",
      "  browser = webdriver.Chrome('working_driver/chromedriver.exe')\n"
     ]
    },
    {
     "name": "stdout",
     "output_type": "stream",
     "text": [
      "Iteration Finished\n",
      "------------------------------------------------------------------------------------------------------------------------\n",
      "Iteration Finished\n",
      "------------------------------------------------------------------------------------------------------------------------\n",
      "Iteration Finished\n",
      "------------------------------------------------------------------------------------------------------------------------\n"
     ]
    }
   ],
   "source": [
    "pages = np.arange(1, 4)\n",
    "browser = webdriver.Chrome('working_driver/chromedriver.exe')\n",
    "for page in pages:\n",
    "    \n",
    "    page=\"https://www.ethiojobs.net/browse-by-company/?searchId=1666872289&action=search&page=\" + str(page) \n",
    "    browser.get(page)  \n",
    "    sleep(randint(10, 15))\n",
    "    soup = BeautifulSoup(browser.page_source, 'html.parser')\n",
    "    for li in soup.find_all('li', {'class': 'col-lg-3 col-md-4 col-sm-6 col-xs-12 mix category_1 mix_all'}):\n",
    "        if li.find('span', {'class': 'hiring'}) is not None:\n",
    "            try:\n",
    "                companyName = li.find('div', {'class': 'comp_name text-danger'}).text.strip()\n",
    "            except Exception as e:\n",
    "                continue\n",
    "            hiring_Company_Name.append(companyName)\n",
    "            try:\n",
    "                Location = li.find('div', {'class': 'comp_address'}).text.strip()\n",
    "                if len(Location) == 0:\n",
    "                    Location = \"N/A\"\n",
    "                else:\n",
    "                    Location \n",
    "            except Exception as e:\n",
    "                continue\n",
    "            hiring_Company_Location.append(Location)\n",
    "        else:\n",
    "            print('No Hiring Found')\n",
    "    print('Iteration Finished')\n",
    "    print('---'*40)"
   ]
  },
  {
   "cell_type": "code",
   "execution_count": 22,
   "id": "c9784a4a",
   "metadata": {},
   "outputs": [],
   "source": [
    "dfData = {\n",
    "    'Company_Name' : hiring_Company_Name,\n",
    "    'Company_Location' : hiring_Company_Name,\n",
    "}"
   ]
  },
  {
   "cell_type": "code",
   "execution_count": 23,
   "id": "67069495",
   "metadata": {},
   "outputs": [],
   "source": [
    "df = pd.DataFrame(data=dfData)"
   ]
  },
  {
   "cell_type": "code",
   "execution_count": 24,
   "id": "c5aa1787",
   "metadata": {},
   "outputs": [
    {
     "data": {
      "text/html": [
       "<div>\n",
       "<style scoped>\n",
       "    .dataframe tbody tr th:only-of-type {\n",
       "        vertical-align: middle;\n",
       "    }\n",
       "\n",
       "    .dataframe tbody tr th {\n",
       "        vertical-align: top;\n",
       "    }\n",
       "\n",
       "    .dataframe thead th {\n",
       "        text-align: right;\n",
       "    }\n",
       "</style>\n",
       "<table border=\"1\" class=\"dataframe\">\n",
       "  <thead>\n",
       "    <tr style=\"text-align: right;\">\n",
       "      <th></th>\n",
       "      <th>Company_Name</th>\n",
       "      <th>Company_Location</th>\n",
       "    </tr>\n",
       "  </thead>\n",
       "  <tbody>\n",
       "    <tr>\n",
       "      <th>0</th>\n",
       "      <td>AAU-Saving Little Lives Project</td>\n",
       "      <td>AAU-Saving Little Lives Project</td>\n",
       "    </tr>\n",
       "    <tr>\n",
       "      <th>1</th>\n",
       "      <td>Abays Trading PLC</td>\n",
       "      <td>Abays Trading PLC</td>\n",
       "    </tr>\n",
       "    <tr>\n",
       "      <th>2</th>\n",
       "      <td>Abbahawa Trading PLC</td>\n",
       "      <td>Abbahawa Trading PLC</td>\n",
       "    </tr>\n",
       "  </tbody>\n",
       "</table>\n",
       "</div>"
      ],
      "text/plain": [
       "                      Company_Name                 Company_Location\n",
       "0  AAU-Saving Little Lives Project  AAU-Saving Little Lives Project\n",
       "1                Abays Trading PLC                Abays Trading PLC\n",
       "2             Abbahawa Trading PLC             Abbahawa Trading PLC"
      ]
     },
     "execution_count": 24,
     "metadata": {},
     "output_type": "execute_result"
    }
   ],
   "source": [
    "df"
   ]
  },
  {
   "cell_type": "code",
   "execution_count": 25,
   "id": "5756cd22",
   "metadata": {},
   "outputs": [],
   "source": [
    "df.to_csv('Company on platform.csv')"
   ]
  },
  {
   "cell_type": "code",
   "execution_count": null,
   "id": "f4e04052",
   "metadata": {},
   "outputs": [],
   "source": []
  }
 ],
 "metadata": {
  "kernelspec": {
   "display_name": "Python 3 (ipykernel)",
   "language": "python",
   "name": "python3"
  },
  "language_info": {
   "codemirror_mode": {
    "name": "ipython",
    "version": 3
   },
   "file_extension": ".py",
   "mimetype": "text/x-python",
   "name": "python",
   "nbconvert_exporter": "python",
   "pygments_lexer": "ipython3",
   "version": "3.9.12"
  }
 },
 "nbformat": 4,
 "nbformat_minor": 5
}
