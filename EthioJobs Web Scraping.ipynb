{
 "cells": [
  {
   "cell_type": "code",
   "execution_count": 7,
   "id": "74e9c5fb",
   "metadata": {},
   "outputs": [],
   "source": [
    "import pandas as pd\n",
    "from bs4 import BeautifulSoup\n",
    "from selenium import webdriver\n",
    "from random import randint\n",
    "import numpy as np\n",
    "from time import sleep"
   ]
  },
  {
   "cell_type": "code",
   "execution_count": 8,
   "id": "d80c2f5d",
   "metadata": {},
   "outputs": [],
   "source": [
    "hiring_Company_Name = []\n",
    "hiring_Company_Location = []"
   ]
  },
  {
   "cell_type": "code",
   "execution_count": 10,
   "id": "0bb67397",
   "metadata": {},
   "outputs": [
    {
     "name": "stderr",
     "output_type": "stream",
     "text": [
      "C:\\Users\\Admin\\AppData\\Local\\Temp\\ipykernel_18164\\1542262406.py:2: DeprecationWarning: executable_path has been deprecated, please pass in a Service object\n",
      "  browser = webdriver.Chrome('working_driver/chromedriver.exe')\n"
     ]
    },
    {
     "name": "stdout",
     "output_type": "stream",
     "text": [
      "Iteration Finished\n",
      "------------------------------------------------------------------------------------------------------------------------\n",
      "Iteration Finished\n",
      "------------------------------------------------------------------------------------------------------------------------\n",
      "Iteration Finished\n",
      "------------------------------------------------------------------------------------------------------------------------\n"
     ]
    }
   ],
   "source": [
    "pages = np.arange(1, 4)\n",
    "browser = webdriver.Chrome('working_driver/chromedriver.exe')\n",
    "for page in pages:\n",
    "    \n",
    "    page=\"https://www.ethiojobs.net/browse-by-company/?searchId=1666872289&action=search&page=\" + str(page) \n",
    "    browser.get(page)  \n",
    "    sleep(randint(10, 15))\n",
    "    soup = BeautifulSoup(browser.page_source, 'html.parser')\n",
    "    for li in soup.find_all('li', {'class': 'col-lg-3 col-md-4 col-sm-6 col-xs-12 mix category_1 mix_all'}):\n",
    "        if li.find('span', {'class': 'hiring'}) is not None:\n",
    "            try:\n",
    "                companyName = li.find('div', {'class': 'comp_name text-danger'}).text.strip()\n",
    "            except Exception as e:\n",
    "                continue\n",
    "            hiring_Company_Name.append(companyName)\n",
    "            try:\n",
    "                Location = li.find('div', {'class': 'comp_address'}).text.strip()\n",
    "                if len(Location) == 0:\n",
    "                    Location = \"N/A\"\n",
    "                else:\n",
    "                    Location \n",
    "            except Exception as e:\n",
    "                continue\n",
    "            hiring_Company_Location.append(Location)\n",
    "        else:\n",
    "            print('No Hiring Found')\n",
    "    print('Iteration Finished')\n",
    "    print('---'*40)"
   ]
  },
  {
   "cell_type": "code",
   "execution_count": 14,
   "id": "ff59670e",
   "metadata": {},
   "outputs": [],
   "source": [
    "dfData = {\n",
    "    'Company_Name' : hiring_Company_Name,\n",
    "    'Company_Location' : hiring_Company_Name,\n",
    "}"
   ]
  },
  {
   "cell_type": "code",
   "execution_count": 15,
   "id": "15251340",
   "metadata": {},
   "outputs": [],
   "source": [
    "df = pd.DataFrame(data=dfData)"
   ]
  },
  {
   "cell_type": "code",
   "execution_count": 17,
   "id": "d3ca5e01",
   "metadata": {},
   "outputs": [],
   "source": [
    "df.to_csv('Company on platform.csv')"
   ]
  },
  {
   "cell_type": "code",
   "execution_count": null,
   "id": "0d32c4aa",
   "metadata": {},
   "outputs": [],
   "source": []
  }
 ],
 "metadata": {
  "kernelspec": {
   "display_name": "Python 3 (ipykernel)",
   "language": "python",
   "name": "python3"
  },
  "language_info": {
   "codemirror_mode": {
    "name": "ipython",
    "version": 3
   },
   "file_extension": ".py",
   "mimetype": "text/x-python",
   "name": "python",
   "nbconvert_exporter": "python",
   "pygments_lexer": "ipython3",
   "version": "3.9.12"
  }
 },
 "nbformat": 4,
 "nbformat_minor": 5
}
